{
  "nbformat": 4,
  "nbformat_minor": 0,
  "metadata": {
    "colab": {
      "name": "model.ipynb",
      "provenance": []
    },
    "kernelspec": {
      "name": "python3",
      "display_name": "Python 3"
    },
    "accelerator": "GPU"
  },
  "cells": [
    {
      "cell_type": "code",
      "metadata": {
        "id": "B4vGJZaj1deD",
        "colab_type": "code",
        "colab": {}
      },
      "source": [
        "import os\n",
        "from tqdm import tqdm\n",
        "import cv2\n",
        "import numpy as np\n",
        "from random import shuffle \n",
        "\n",
        "foldername =  [name for name in os.listdir(\".\") if os.path.isdir(name)]\n",
        "IMG_SIZE = 100\n",
        "def create_label(image_name):\n",
        "    \"\"\" Create an one-hot encoded vector from image name \"\"\"\n",
        "    word_label = image_name.split('_')[4]\n",
        "    if word_label == '0':\n",
        "        return np.array([1,0])\n",
        "    elif word_label == '1':\n",
        "        return np.array([0,1])\n",
        "def create_train_data():\n",
        "    training_data = []\n",
        "    for fdname in foldername:\n",
        "        TRAIN_DIR =  fdname\n",
        "        for img in tqdm(os.listdir(TRAIN_DIR)):\n",
        "            path = os.path.join(TRAIN_DIR, img)\n",
        "            img_data = cv2.imread(path, cv2.IMREAD_GRAYSCALE)\n",
        "            img_data = cv2.resize(img_data, (IMG_SIZE,IMG_SIZE ))\n",
        "            training_data.append([np.array(img_data), create_label(img)])\n",
        "    shuffle(training_data)\n",
        "    np.save('train_data.npy', training_data)\n",
        "    return training_data\n",
        "#train_data = create_train_data()\n",
        "train_data = np.load('train_data.npy',allow_pickle=True)\n",
        "train = train_data\n",
        "X_train = np.array([i[0] for i in train]).reshape(-1,100 , 100, 1)\n",
        "y_train = [i[1] for i in train]"
      ],
      "execution_count": 0,
      "outputs": []
    },
    {
      "cell_type": "code",
      "metadata": {
        "id": "mexPWbjFb2Xg",
        "colab_type": "code",
        "outputId": "8c4d608c-6c8c-45e3-fd1a-03eddb23beee",
        "colab": {
          "base_uri": "https://localhost:8080/",
          "height": 85
        }
      },
      "source": [
        "from sklearn.model_selection import train_test_split\n",
        "\n",
        "X_train, X_test, y_train, y_test = train_test_split(X_train,y_train, test_size=0.1)\n",
        "print(X_train.shape)\n",
        "print(y_train.shape)\n",
        "print(X_test.shape)\n",
        "print(y_test.shape)"
      ],
      "execution_count": 6,
      "outputs": [
        {
          "output_type": "stream",
          "text": [
            "(68767, 100, 100, 1)\n",
            "(68767, 2)\n",
            "(7641, 100, 100, 1)\n",
            "(7641, 2)\n"
          ],
          "name": "stdout"
        }
      ]
    },
    {
      "cell_type": "code",
      "metadata": {
        "id": "2D4RYuHrYRoY",
        "colab_type": "code",
        "outputId": "d40a6d4e-a310-4343-f03a-5246e7ab3d25",
        "colab": {
          "base_uri": "https://localhost:8080/",
          "height": 85
        }
      },
      "source": [
        "print(X_train.shape)\n",
        "y_train = np.array(y_train)\n",
        "print(y_train.shape)\n",
        "print(X_test.shape)\n",
        "y_test = np.array(y_test)\n",
        "print(y_test.shape)"
      ],
      "execution_count": 7,
      "outputs": [
        {
          "output_type": "stream",
          "text": [
            "(68767, 100, 100, 1)\n",
            "(68767, 2)\n",
            "(7641, 100, 100, 1)\n",
            "(7641, 2)\n"
          ],
          "name": "stdout"
        }
      ]
    },
    {
      "cell_type": "code",
      "metadata": {
        "id": "0Ar8itjwYL0Y",
        "colab_type": "code",
        "colab": {
          "base_uri": "https://localhost:8080/",
          "height": 34
        },
        "outputId": "6b72b9c8-6965-4be1-a98b-f55d5a501ab1"
      },
      "source": [
        "# 1. Thêm các thư viện cần thiết\n",
        "import numpy as np\n",
        "import matplotlib.pyplot as plt\n",
        "from keras.models import Sequential\n",
        "from keras.layers import Dense, Dropout, Activation, Flatten\n",
        "from keras.layers import Conv2D, MaxPooling2D,BatchNormalization\n",
        "from keras.utils import np_utils\n",
        "from keras.datasets import mnist\n",
        "from keras.preprocessing.image import ImageDataGenerator\n",
        "from keras import regularizers\n",
        "from keras.callbacks import LearningRateScheduler\n",
        "import keras"
      ],
      "execution_count": 8,
      "outputs": [
        {
          "output_type": "stream",
          "text": [
            "Using TensorFlow backend.\n"
          ],
          "name": "stderr"
        }
      ]
    },
    {
      "cell_type": "code",
      "metadata": {
        "id": "usx4MfbM_FKc",
        "colab_type": "code",
        "colab": {}
      },
      "source": [
        "#data augmentation : sinh ra thêm data\n",
        "datagen = ImageDataGenerator(\n",
        "    rotation_range=15,\n",
        "    width_shift_range=0.1,\n",
        "    height_shift_range=0.1,\n",
        "    horizontal_flip=True,\n",
        "    )\n",
        "datagen.fit(X_train)"
      ],
      "execution_count": 0,
      "outputs": []
    },
    {
      "cell_type": "code",
      "metadata": {
        "id": "kKi7B047fyP9",
        "colab_type": "code",
        "colab": {
          "base_uri": "https://localhost:8080/",
          "height": 496
        },
        "outputId": "9cf13b56-05bc-48e0-f750-540547c5aa80"
      },
      "source": [
        "weight_decay = 1e-4\n",
        "model = Sequential()\n",
        "model.add(Conv2D(32, (3,3), padding='same', kernel_regularizer=regularizers.l2(weight_decay), input_shape=X_train.shape[1:]))\n",
        "model.add(Activation('relu'))\n",
        "model.add(BatchNormalization())\n",
        "model.add(Conv2D(32, (3,3), padding='same', kernel_regularizer=regularizers.l2(weight_decay)))\n",
        "model.add(Activation('relu'))\n",
        "model.add(BatchNormalization())\n",
        "model.add(MaxPooling2D(pool_size=(2,2)))\n",
        "model.add(Dropout(0.2))\n",
        " \n",
        "model.add(Conv2D(64, (3,3), padding='same', kernel_regularizer=regularizers.l2(weight_decay)))\n",
        "model.add(Activation('relu'))\n",
        "model.add(BatchNormalization())\n",
        "model.add(Conv2D(64, (3,3), padding='same', kernel_regularizer=regularizers.l2(weight_decay)))\n",
        "model.add(Activation('relu'))\n",
        "model.add(BatchNormalization())\n",
        "model.add(MaxPooling2D(pool_size=(2,2)))\n",
        "model.add(Dropout(0.3))\n",
        " \n",
        "model.add(Conv2D(128, (3,3), padding='same', kernel_regularizer=regularizers.l2(weight_decay)))\n",
        "model.add(Activation('relu'))\n",
        "model.add(BatchNormalization())\n",
        "model.add(Conv2D(128, (3,3), padding='same', kernel_regularizer=regularizers.l2(weight_decay)))\n",
        "model.add(Activation('relu'))\n",
        "model.add(BatchNormalization())\n",
        "model.add(MaxPooling2D(pool_size=(2,2)))\n",
        "model.add(Dropout(0.4))\n",
        " \n",
        "model.add(Flatten())\n",
        "model.add(Dense(128, activation='sigmoid'))\n",
        "model.add(Dense(2, activation='softmax'))\n",
        "\n",
        " "
      ],
      "execution_count": 10,
      "outputs": [
        {
          "output_type": "stream",
          "text": [
            "WARNING:tensorflow:From /usr/local/lib/python3.6/dist-packages/keras/backend/tensorflow_backend.py:66: The name tf.get_default_graph is deprecated. Please use tf.compat.v1.get_default_graph instead.\n",
            "\n",
            "WARNING:tensorflow:From /usr/local/lib/python3.6/dist-packages/keras/backend/tensorflow_backend.py:541: The name tf.placeholder is deprecated. Please use tf.compat.v1.placeholder instead.\n",
            "\n",
            "WARNING:tensorflow:From /usr/local/lib/python3.6/dist-packages/keras/backend/tensorflow_backend.py:4432: The name tf.random_uniform is deprecated. Please use tf.random.uniform instead.\n",
            "\n",
            "WARNING:tensorflow:From /usr/local/lib/python3.6/dist-packages/keras/backend/tensorflow_backend.py:190: The name tf.get_default_session is deprecated. Please use tf.compat.v1.get_default_session instead.\n",
            "\n",
            "WARNING:tensorflow:From /usr/local/lib/python3.6/dist-packages/keras/backend/tensorflow_backend.py:197: The name tf.ConfigProto is deprecated. Please use tf.compat.v1.ConfigProto instead.\n",
            "\n",
            "WARNING:tensorflow:From /usr/local/lib/python3.6/dist-packages/keras/backend/tensorflow_backend.py:203: The name tf.Session is deprecated. Please use tf.compat.v1.Session instead.\n",
            "\n",
            "WARNING:tensorflow:From /usr/local/lib/python3.6/dist-packages/keras/backend/tensorflow_backend.py:207: The name tf.global_variables is deprecated. Please use tf.compat.v1.global_variables instead.\n",
            "\n",
            "WARNING:tensorflow:From /usr/local/lib/python3.6/dist-packages/keras/backend/tensorflow_backend.py:216: The name tf.is_variable_initialized is deprecated. Please use tf.compat.v1.is_variable_initialized instead.\n",
            "\n",
            "WARNING:tensorflow:From /usr/local/lib/python3.6/dist-packages/keras/backend/tensorflow_backend.py:223: The name tf.variables_initializer is deprecated. Please use tf.compat.v1.variables_initializer instead.\n",
            "\n",
            "WARNING:tensorflow:From /usr/local/lib/python3.6/dist-packages/keras/backend/tensorflow_backend.py:2041: The name tf.nn.fused_batch_norm is deprecated. Please use tf.compat.v1.nn.fused_batch_norm instead.\n",
            "\n",
            "WARNING:tensorflow:From /usr/local/lib/python3.6/dist-packages/keras/backend/tensorflow_backend.py:148: The name tf.placeholder_with_default is deprecated. Please use tf.compat.v1.placeholder_with_default instead.\n",
            "\n",
            "WARNING:tensorflow:From /usr/local/lib/python3.6/dist-packages/keras/backend/tensorflow_backend.py:4267: The name tf.nn.max_pool is deprecated. Please use tf.nn.max_pool2d instead.\n",
            "\n",
            "WARNING:tensorflow:From /usr/local/lib/python3.6/dist-packages/keras/backend/tensorflow_backend.py:3733: calling dropout (from tensorflow.python.ops.nn_ops) with keep_prob is deprecated and will be removed in a future version.\n",
            "Instructions for updating:\n",
            "Please use `rate` instead of `keep_prob`. Rate should be set to `rate = 1 - keep_prob`.\n"
          ],
          "name": "stdout"
        }
      ]
    },
    {
      "cell_type": "code",
      "metadata": {
        "id": "lHxv0UvZ6ibi",
        "colab_type": "code",
        "outputId": "6d0986a9-50b5-48d5-ee6f-39ac2f19a26e",
        "colab": {
          "base_uri": "https://localhost:8080/",
          "height": 1000
        }
      },
      "source": [
        "EarlyStopping=keras.callbacks.EarlyStopping(monitor='val_loss', \n",
        "                                            min_delta=1e-5, patience=10, verbose=1, mode='auto')\n",
        "Adaptive=keras.callbacks.ReduceLROnPlateau(monitor='val_loss', factor=0.7, \n",
        "                                           patience=5, verbose=1, mode='auto', \n",
        "                                           min_delta=0.0005, cooldown=0, min_lr=0.0004)\n",
        "#model = ResNet50(input_shape = (32, 32, 3), classes = 10)\n",
        "#opt = SGD(lr=0.01, momentum=0.9, decay=0.0001, nesterov=False)\n",
        "#opt = keras.optimizers.Adam(lr=0.0005)\n",
        "model.compile(optimizer = 'adam', loss='binary_crossentropy', \n",
        "              metrics=['accuracy'])\n",
        "H= model.fit(X_train, y_train,\n",
        "              batch_size=128,\n",
        "              epochs=70,\n",
        "              callbacks=[Adaptive,EarlyStopping],\n",
        "              validation_split=0.2,\n",
        "              shuffle=True)\n",
        "score = model.evaluate(X_test, y_test, verbose=0)\n",
        "print(score)\n",
        "model.save('pretrain3.hdf5')"
      ],
      "execution_count": 11,
      "outputs": [
        {
          "output_type": "stream",
          "text": [
            "WARNING:tensorflow:From /usr/local/lib/python3.6/dist-packages/keras/optimizers.py:793: The name tf.train.Optimizer is deprecated. Please use tf.compat.v1.train.Optimizer instead.\n",
            "\n",
            "WARNING:tensorflow:From /usr/local/lib/python3.6/dist-packages/keras/backend/tensorflow_backend.py:3657: The name tf.log is deprecated. Please use tf.math.log instead.\n",
            "\n",
            "WARNING:tensorflow:From /usr/local/lib/python3.6/dist-packages/tensorflow_core/python/ops/nn_impl.py:183: where (from tensorflow.python.ops.array_ops) is deprecated and will be removed in a future version.\n",
            "Instructions for updating:\n",
            "Use tf.where in 2.0, which has the same broadcast rule as np.where\n",
            "WARNING:tensorflow:From /usr/local/lib/python3.6/dist-packages/keras/backend/tensorflow_backend.py:1033: The name tf.assign_add is deprecated. Please use tf.compat.v1.assign_add instead.\n",
            "\n",
            "WARNING:tensorflow:From /usr/local/lib/python3.6/dist-packages/keras/backend/tensorflow_backend.py:1020: The name tf.assign is deprecated. Please use tf.compat.v1.assign instead.\n",
            "\n",
            "Train on 55013 samples, validate on 13754 samples\n",
            "Epoch 1/70\n",
            "55013/55013 [==============================] - 146s 3ms/step - loss: 0.1985 - acc: 0.9425 - val_loss: 0.2107 - val_acc: 0.9250\n",
            "Epoch 2/70\n",
            "55013/55013 [==============================] - 139s 3ms/step - loss: 0.0918 - acc: 0.9787 - val_loss: 0.0954 - val_acc: 0.9763\n",
            "Epoch 3/70\n",
            "55013/55013 [==============================] - 139s 3ms/step - loss: 0.0787 - acc: 0.9823 - val_loss: 0.0888 - val_acc: 0.9774\n",
            "Epoch 4/70\n",
            "55013/55013 [==============================] - 139s 3ms/step - loss: 0.0706 - acc: 0.9845 - val_loss: 0.0752 - val_acc: 0.9820\n",
            "Epoch 5/70\n",
            "55013/55013 [==============================] - 139s 3ms/step - loss: 0.0712 - acc: 0.9836 - val_loss: 0.5495 - val_acc: 0.6947\n",
            "Epoch 6/70\n",
            "55013/55013 [==============================] - 138s 3ms/step - loss: 0.0664 - acc: 0.9856 - val_loss: 0.1612 - val_acc: 0.9488\n",
            "Epoch 7/70\n",
            "55013/55013 [==============================] - 138s 3ms/step - loss: 0.0623 - acc: 0.9863 - val_loss: 0.0813 - val_acc: 0.9795\n",
            "Epoch 8/70\n",
            "55013/55013 [==============================] - 138s 3ms/step - loss: 0.0608 - acc: 0.9862 - val_loss: 0.0761 - val_acc: 0.9814\n",
            "Epoch 9/70\n",
            "55013/55013 [==============================] - 138s 3ms/step - loss: 0.0590 - acc: 0.9868 - val_loss: 0.2201 - val_acc: 0.9176\n",
            "\n",
            "Epoch 00009: ReduceLROnPlateau reducing learning rate to 0.0007000000332482159.\n",
            "Epoch 10/70\n",
            "55013/55013 [==============================] - 139s 3ms/step - loss: 0.0532 - acc: 0.9885 - val_loss: 0.0618 - val_acc: 0.9857\n",
            "Epoch 11/70\n",
            "55013/55013 [==============================] - 139s 3ms/step - loss: 0.0488 - acc: 0.9899 - val_loss: 0.0584 - val_acc: 0.9861\n",
            "Epoch 12/70\n",
            "55013/55013 [==============================] - 139s 3ms/step - loss: 0.0502 - acc: 0.9890 - val_loss: 0.4913 - val_acc: 0.7392\n",
            "Epoch 13/70\n",
            "55013/55013 [==============================] - 139s 3ms/step - loss: 0.0490 - acc: 0.9892 - val_loss: 0.0928 - val_acc: 0.9724\n",
            "Epoch 14/70\n",
            "55013/55013 [==============================] - 138s 3ms/step - loss: 0.0466 - acc: 0.9896 - val_loss: 0.8900 - val_acc: 0.7878\n",
            "Epoch 15/70\n",
            "55013/55013 [==============================] - 139s 3ms/step - loss: 0.0455 - acc: 0.9900 - val_loss: 0.1338 - val_acc: 0.9596\n",
            "Epoch 16/70\n",
            "55013/55013 [==============================] - 139s 3ms/step - loss: 0.0461 - acc: 0.9901 - val_loss: 0.1116 - val_acc: 0.9684\n",
            "\n",
            "Epoch 00016: ReduceLROnPlateau reducing learning rate to 0.0004900000232737511.\n",
            "Epoch 17/70\n",
            "55013/55013 [==============================] - 139s 3ms/step - loss: 0.0429 - acc: 0.9909 - val_loss: 0.0510 - val_acc: 0.9880\n",
            "Epoch 18/70\n",
            "55013/55013 [==============================] - 137s 2ms/step - loss: 0.0403 - acc: 0.9914 - val_loss: 0.0512 - val_acc: 0.9870\n",
            "Epoch 19/70\n",
            "55013/55013 [==============================] - 137s 2ms/step - loss: 0.0391 - acc: 0.9913 - val_loss: 0.0457 - val_acc: 0.9895\n",
            "Epoch 20/70\n",
            "55013/55013 [==============================] - 137s 2ms/step - loss: 0.0373 - acc: 0.9922 - val_loss: 0.3118 - val_acc: 0.9269\n",
            "Epoch 21/70\n",
            "55013/55013 [==============================] - 137s 2ms/step - loss: 0.0361 - acc: 0.9923 - val_loss: 0.0421 - val_acc: 0.9910\n",
            "Epoch 22/70\n",
            "55013/55013 [==============================] - 137s 2ms/step - loss: 0.0359 - acc: 0.9923 - val_loss: 0.1545 - val_acc: 0.9571\n",
            "Epoch 23/70\n",
            "55013/55013 [==============================] - 137s 2ms/step - loss: 0.0353 - acc: 0.9924 - val_loss: 0.0529 - val_acc: 0.9867\n",
            "Epoch 24/70\n",
            "55013/55013 [==============================] - 137s 2ms/step - loss: 0.0355 - acc: 0.9920 - val_loss: 0.0470 - val_acc: 0.9886\n",
            "Epoch 25/70\n",
            "55013/55013 [==============================] - 137s 2ms/step - loss: 0.0363 - acc: 0.9918 - val_loss: 0.0492 - val_acc: 0.9887\n",
            "Epoch 26/70\n",
            "55013/55013 [==============================] - 137s 2ms/step - loss: 0.0344 - acc: 0.9923 - val_loss: 0.0648 - val_acc: 0.9827\n",
            "\n",
            "Epoch 00026: ReduceLROnPlateau reducing learning rate to 0.0004.\n",
            "Epoch 27/70\n",
            "55013/55013 [==============================] - 137s 2ms/step - loss: 0.0322 - acc: 0.9930 - val_loss: 0.0535 - val_acc: 0.9863\n",
            "Epoch 28/70\n",
            "55013/55013 [==============================] - 137s 2ms/step - loss: 0.0320 - acc: 0.9927 - val_loss: 0.0555 - val_acc: 0.9855\n",
            "Epoch 29/70\n",
            "55013/55013 [==============================] - 137s 2ms/step - loss: 0.0298 - acc: 0.9936 - val_loss: 0.0786 - val_acc: 0.9761\n",
            "Epoch 30/70\n",
            "55013/55013 [==============================] - 137s 2ms/step - loss: 0.0313 - acc: 0.9926 - val_loss: 0.0446 - val_acc: 0.9893\n",
            "Epoch 31/70\n",
            "55013/55013 [==============================] - 137s 2ms/step - loss: 0.0299 - acc: 0.9937 - val_loss: 0.0385 - val_acc: 0.9916\n",
            "Epoch 32/70\n",
            "55013/55013 [==============================] - 137s 2ms/step - loss: 0.0297 - acc: 0.9933 - val_loss: 0.0394 - val_acc: 0.9912\n",
            "Epoch 33/70\n",
            "55013/55013 [==============================] - 137s 2ms/step - loss: 0.0281 - acc: 0.9939 - val_loss: 0.0392 - val_acc: 0.9909\n",
            "Epoch 34/70\n",
            "55013/55013 [==============================] - 137s 2ms/step - loss: 0.0281 - acc: 0.9941 - val_loss: 0.0538 - val_acc: 0.9863\n",
            "Epoch 35/70\n",
            "55013/55013 [==============================] - 137s 2ms/step - loss: 0.0285 - acc: 0.9937 - val_loss: 0.0423 - val_acc: 0.9893\n",
            "Epoch 36/70\n",
            "55013/55013 [==============================] - 138s 3ms/step - loss: 0.0285 - acc: 0.9936 - val_loss: 0.0536 - val_acc: 0.9861\n",
            "Epoch 37/70\n",
            "55013/55013 [==============================] - 139s 3ms/step - loss: 0.0290 - acc: 0.9932 - val_loss: 0.2018 - val_acc: 0.9477\n",
            "Epoch 38/70\n",
            "55013/55013 [==============================] - 138s 3ms/step - loss: 0.0267 - acc: 0.9944 - val_loss: 0.0451 - val_acc: 0.9901\n",
            "Epoch 39/70\n",
            "55013/55013 [==============================] - 138s 3ms/step - loss: 0.0269 - acc: 0.9939 - val_loss: 0.1028 - val_acc: 0.9668\n",
            "Epoch 40/70\n",
            "55013/55013 [==============================] - 137s 2ms/step - loss: 0.0277 - acc: 0.9935 - val_loss: 0.0563 - val_acc: 0.9855\n",
            "Epoch 41/70\n",
            "55013/55013 [==============================] - 136s 2ms/step - loss: 0.0265 - acc: 0.9942 - val_loss: 0.0937 - val_acc: 0.9741\n",
            "Epoch 00041: early stopping\n",
            "[0.10193843920573158, 0.9714697029184661]\n"
          ],
          "name": "stdout"
        }
      ]
    },
    {
      "cell_type": "code",
      "metadata": {
        "id": "YXAEytw89L_E",
        "colab_type": "code",
        "colab": {}
      },
      "source": [
        "model.save('pretrain1.hdf5')"
      ],
      "execution_count": 0,
      "outputs": []
    },
    {
      "cell_type": "code",
      "metadata": {
        "id": "J-NqZONQhidH",
        "colab_type": "code",
        "outputId": "c52907c6-73f7-42e0-a771-81da4baf23d6",
        "colab": {
          "base_uri": "https://localhost:8080/",
          "height": 312
        }
      },
      "source": [
        "# 8. Vẽ đồ thị loss, accuracy của traning set và validation set\n",
        "import matplotlib.pyplot as plt\n",
        "fig = plt.figure()\n",
        "numOfEpoch = 41\n",
        "plt.plot(np.arange(0, numOfEpoch), model.history.history['loss'], label='training loss')\n",
        "plt.plot(np.arange(0, numOfEpoch), model.history.history['val_loss'], label='validation loss')\n",
        "plt.plot(np.arange(0, numOfEpoch), model.history.history['acc'], label='accuracy')\n",
        "plt.plot(np.arange(0, numOfEpoch), model.history.history['val_acc'], label='validation accuracy')\n",
        "plt.title('Accuracy and Loss')\n",
        "plt.xlabel('Epoch')\n",
        "plt.ylabel('Loss|Accuracy')\n",
        "plt.legend()"
      ],
      "execution_count": 13,
      "outputs": [
        {
          "output_type": "execute_result",
          "data": {
            "text/plain": [
              "<matplotlib.legend.Legend at 0x7f956eee2518>"
            ]
          },
          "metadata": {
            "tags": []
          },
          "execution_count": 13
        },
        {
          "output_type": "display_data",
          "data": {
            "image/png": "[encoded data removed]",
            "text/plain": [
              "<Figure size 432x288 with 1 Axes>"
            ]
          },
          "metadata": {
            "tags": []
          }
        }
      ]
    },
    {
      "cell_type": "code",
      "metadata": {
        "id": "xNRCnb5EeMMD",
        "colab_type": "code",
        "outputId": "8fe8e28b-769b-4408-ae4e-43024aac65aa",
        "colab": {
          "base_uri": "https://localhost:8080/",
          "height": 68
        }
      },
      "source": [
        "#testing\n",
        "scores = model.evaluate(X_test, y_test, verbose=1)\n",
        "print(\"Acccuracy: \", 100*scores[1])\n",
        "print(\"Loss: \", scores[0])"
      ],
      "execution_count": 0,
      "outputs": [
        {
          "output_type": "stream",
          "text": [
            "8490/8490 [==============================] - 9s 1ms/step\n",
            "Acccuracy:  98.42167255594816\n",
            "Loss:  0.05754473526535382\n"
          ],
          "name": "stdout"
        }
      ]
    }
  ]
}